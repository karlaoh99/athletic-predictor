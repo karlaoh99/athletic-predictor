{
  "cells": [
    {
      "cell_type": "code",
      "execution_count": null,
      "metadata": {},
      "outputs": [],
      "source": [
        "import sys\n",
        "sys.path.append(\"../..\")"
      ]
    },
    {
      "cell_type": "code",
      "execution_count": null,
      "metadata": {},
      "outputs": [],
      "source": [
        "from src.marks_reader import *\n",
        "from src.competition_data import *\n",
        "from src.optimizer import *\n",
        "from src.prediction_saver import *\n",
        "from src.utils import *\n",
        "from data.events_data import events\n",
        "from datetime import datetime"
      ]
    },
    {
      "cell_type": "code",
      "execution_count": null,
      "metadata": {},
      "outputs": [],
      "source": [
        "event_folder = 'data/classified'\n",
        "only = [\n",
        "    \"atl_100m\",\n",
        "    \"atl_200m\",   \n",
        "    \"atl_400m\",\n",
        "    \"atl_800m\",\n",
        "    \"atl_1500m\",\n",
        "    \"atl_5000m\",\n",
        "    \"atl_10000m\",\n",
        "    \"atl_100v\",\n",
        "    \"atl_110v\",\n",
        "    \"atl_400v\",\n",
        "    \"atl_3000m\", \n",
        "    \"atl_jab\",\n",
        "    \"atl_alt\",\n",
        "    \"atl_per\",\n",
        "    \"atl_lar\",\n",
        "    \"atl_tri\",\n",
        "    \"atl_bal\",\n",
        "    \"atl_dis\",\n",
        "    \"atl_mar\",\n",
        "    \"atl_hep\",\n",
        "    \"atl_dec\",\n",
        "    \"atl_20km\",\n",
        "    \"atl_50km\",\n",
        "    \"atl_mat\",\n",
        "]\n",
        "\n",
        "competition = CompetitionData(\n",
        "    name=\"World Championships in Athletics Doha 2019\", \n",
        "    events_data=events,\n",
        "    start_date=datetime(2019, 9, 27),\n",
        ")\n",
        "\n",
        "data = read_marks(\n",
        "    folder_path=event_folder, \n",
        "    only=only,\n",
        "    limit_date=competition.start_date\n",
        ")\n",
        "\n",
        "results = load_json('data/results.json')"
      ]
    },
    {
      "cell_type": "code",
      "execution_count": null,
      "metadata": {},
      "outputs": [],
      "source": [
        "optimize_params(\n",
        "    events=only,\n",
        "    data=data,\n",
        "    results=results, \n",
        "    competition=competition, \n",
        "    params=['bandwidth', 'alpha', 'sim_times', 'pond_times'],\n",
        "    runcount=100,\n",
        "    error_calculator=calculate_error4,\n",
        "    file=\"opt_results4_new.json\"\n",
        ")"
      ]
    }
  ],
  "metadata": {
    "colab": {
      "collapsed_sections": [],
      "name": "kde.ipynb",
      "provenance": []
    },
    "interpreter": {
      "hash": "dfd388942735c5130f417b4822c18777e57ed54f2754cdc41cfc53f488e62948"
    },
    "kernelspec": {
      "display_name": "Python 3 (ipykernel)",
      "language": "python",
      "name": "python3"
    },
    "language_info": {
      "codemirror_mode": {
        "name": "ipython",
        "version": 3
      },
      "file_extension": ".py",
      "mimetype": "text/x-python",
      "name": "python",
      "nbconvert_exporter": "python",
      "pygments_lexer": "ipython3",
      "version": "3.7.2"
    }
  },
  "nbformat": 4,
  "nbformat_minor": 0
}
