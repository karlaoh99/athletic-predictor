{
  "cells": [
    {
      "cell_type": "code",
      "execution_count": null,
      "metadata": {},
      "outputs": [],
      "source": [
        "import sys\n",
        "sys.path.append(\"../..\")"
      ]
    },
    {
      "cell_type": "code",
      "execution_count": null,
      "metadata": {},
      "outputs": [],
      "source": [
        "from src.marks_reader import *\n",
        "from src.competition_data import *\n",
        "from src.optimizer import *\n",
        "from src.prediction_saver import *\n",
        "from events_data import events\n",
        "from datetime import datetime"
      ]
    },
    {
      "cell_type": "code",
      "execution_count": null,
      "metadata": {},
      "outputs": [],
      "source": [
        "competition = CompetitionData(\n",
        "    name=\"Olympic Games Tokyo 2020\", \n",
        "    events_data=events, \n",
        "    start_date=datetime(2021, 7, 23),\n",
        ")\n",
        "\n",
        "event_folder = 'classified'\n",
        "only = None"
      ]
    },
    {
      "cell_type": "code",
      "execution_count": null,
      "metadata": {},
      "outputs": [],
      "source": [
        "data = read_marks(\n",
        "    folder_path=event_folder, \n",
        "    only=only,\n",
        "    limit_date=competition.start_date\n",
        ")"
      ]
    },
    {
      "cell_type": "code",
      "execution_count": null,
      "metadata": {},
      "outputs": [],
      "source": [
        "results = load_json('results.json')"
      ]
    },
    {
      "cell_type": "code",
      "execution_count": null,
      "metadata": {},
      "outputs": [],
      "source": [
        "def save_config(config: dict, event: str, sex: str, file: str = 'opt_results.json') -> None:\n",
        "    optimal_results = load_json(file)\n",
        "\n",
        "    \n",
        "    if not event in optimal_results:\n",
        "        optimal_results[event] = {}\n",
        "\n",
        "    if not sex in optimal_results[event]:\n",
        "        optimal_results[event][sex] = {}\n",
        "    \n",
        "    for key, value in config.items():\n",
        "        optimal_results[event][sex][key] = value\n",
        "\n",
        "    save_json(optimal_results, file)"
      ]
    },
    {
      "cell_type": "code",
      "execution_count": null,
      "metadata": {},
      "outputs": [],
      "source": [
        "for event in competition.events:\n",
        "    for sex in competition.get_event_data(event)['sex']:\n",
        "        print(f\"Optimizing {event} - {sex}...\")\n",
        "        \n",
        "        smac = SMAC4BBOptimizer(1, calculate_error3)\n",
        "        optimal_config = smac.optimize(data[event][sex], results, event, sex, competition)\n",
        "        save_config(optimal_config, event, sex)"
      ]
    }
  ],
  "metadata": {
    "colab": {
      "collapsed_sections": [],
      "name": "kde.ipynb",
      "provenance": []
    },
    "interpreter": {
      "hash": "dfd388942735c5130f417b4822c18777e57ed54f2754cdc41cfc53f488e62948"
    },
    "kernelspec": {
      "display_name": "Python 3 (ipykernel)",
      "language": "python",
      "name": "python3"
    },
    "language_info": {
      "codemirror_mode": {
        "name": "ipython",
        "version": 3
      },
      "file_extension": ".py",
      "mimetype": "text/x-python",
      "name": "python",
      "nbconvert_exporter": "python",
      "pygments_lexer": "ipython3",
      "version": "3.7.2"
    }
  },
  "nbformat": 4,
  "nbformat_minor": 0
}
