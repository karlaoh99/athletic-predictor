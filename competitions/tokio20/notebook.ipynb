{
  "cells": [
    {
      "cell_type": "code",
      "execution_count": null,
      "metadata": {},
      "outputs": [],
      "source": [
        "import sys\n",
        "sys.path.append(\"../..\")"
      ]
    },
    {
      "cell_type": "code",
      "execution_count": null,
      "metadata": {},
      "outputs": [],
      "source": [
        "from src.marks_reader import *\n",
        "from src.competition_data import *\n",
        "from src.prediction_saver import *\n",
        "from src.ponderator import *\n",
        "from src.simulator import *\n",
        "from src.utils import *\n",
        "from data.events_data import events\n",
        "from datetime import datetime"
      ]
    },
    {
      "cell_type": "code",
      "execution_count": null,
      "metadata": {},
      "outputs": [],
      "source": [
        "events_params = load_json('expert_params.json')"
      ]
    },
    {
      "cell_type": "code",
      "execution_count": null,
      "metadata": {},
      "outputs": [],
      "source": [
        "competition = CompetitionData(\n",
        "    name=\"Olympic Games Tokyo 2020\", \n",
        "    events_data=events, \n",
        "    events_params=events_params,\n",
        "    start_date=datetime(2021, 7, 23),\n",
        ")\n",
        "\n",
        "event_folder = 'classified'\n",
        "only = ['atl_100m']\n",
        "top = 8"
      ]
    },
    {
      "cell_type": "code",
      "execution_count": null,
      "metadata": {},
      "outputs": [],
      "source": [
        "data = read_marks(\n",
        "    folder_path=event_folder, \n",
        "    only=only,\n",
        "    limit_date=competition.start_date\n",
        ")"
      ]
    },
    {
      "cell_type": "code",
      "execution_count": null,
      "metadata": {},
      "outputs": [],
      "source": [
        "ponderated_data = ponderate_all_events(\n",
        "    data=data, \n",
        "    competition=competition,\n",
        "    years_weight={\n",
        "        \"2019\": 1,\n",
        "        \"2020\": 2,\n",
        "        \"2021\": 4\n",
        "    },\n",
        "    logs=True,\n",
        ")"
      ]
    },
    {
      "cell_type": "code",
      "execution_count": null,
      "metadata": {},
      "outputs": [],
      "source": [
        "prediction = simulate_all_events(\n",
        "    data=ponderated_data, \n",
        "    competition=competition, \n",
        "    top=top, \n",
        "    times=5000, \n",
        "    models_folder='models',\n",
        "    override_models=True,\n",
        "    only=only,\n",
        "    logs=True, \n",
        ")"
      ]
    },
    {
      "cell_type": "code",
      "execution_count": null,
      "metadata": {},
      "outputs": [],
      "source": [
        "save_prediction(\n",
        "    results=prediction, \n",
        "    competition=competition, \n",
        "    top=top,\n",
        "    file='predictions10.json'\n",
        ")"
      ]
    },
    {
      "cell_type": "code",
      "execution_count": null,
      "metadata": {},
      "outputs": [],
      "source": [
        "from src.stats_calculator import *\n",
        "from src.utils import *\n",
        "\n",
        "calculate_all_stats('results.json', 'predictions9.json', 'stats9.json')"
      ]
    },
    {
      "cell_type": "code",
      "execution_count": null,
      "metadata": {},
      "outputs": [],
      "source": [
        "# p = \"\"\n",
        "# stats = load_json('stats9.json')\n",
        "\n",
        "# for event in stats:\n",
        "#     try:\n",
        "#         ranking_pos = stats[event]['male']['ranking_pos'] + stats[event]['female']['ranking_pos']\n",
        "#         ranking_exact_pos = stats[event]['male']['ranking_exact_pos'] + stats[event]['female']['ranking_exact_pos']\n",
        "#         podium_pos = stats[event]['male']['podium_pos'] + stats[event]['female']['podium_pos']\n",
        "#         podium_exact_pos = stats[event]['male']['podium_exact_pos'] + stats[event]['female']['podium_exact_pos']\n",
        "#         champion = stats[event]['male']['champion'] + stats[event]['female']['champion']\n",
        "#         n = 2\n",
        "#     except:\n",
        "#         try:\n",
        "#             ranking_pos = stats[event]['male']['ranking_pos']\n",
        "#             ranking_exact_pos = stats[event]['male']['ranking_exact_pos']\n",
        "#             podium_pos = stats[event]['male']['podium_pos']\n",
        "#             podium_exact_pos = stats[event]['male']['podium_exact_pos']\n",
        "#             champion = stats[event]['male']['champion']\n",
        "#             n = 1\n",
        "#         except:\n",
        "#             try:\n",
        "#                 ranking_pos = stats[event]['female']['ranking_pos']\n",
        "#                 ranking_exact_pos = stats[event]['female']['ranking_exact_pos']\n",
        "#                 podium_pos = stats[event]['female']['podium_pos']\n",
        "#                 podium_exact_pos = stats[event]['female']['podium_exact_pos']\n",
        "#                 champion = stats[event]['female']['champion']\n",
        "#                 n = 1\n",
        "\n",
        "#             except:\n",
        "#                 continue\n",
        "\n",
        "#     p += f\"           {competition.get_event_data(event,'name')} & {ranking_pos} & {ranking_exact_pos} & {n*8} & {podium_pos} & {podium_exact_pos} & {n*3} & {champion} \\\\\\\\\\n\"\n",
        "\n",
        "# print(p)\n",
        "\n",
        "\n",
        "\n",
        "# #   Eventos & No. de finalistas & No. de finalistas     & No. real de & No. de medallistas & No. de medallistas & No. real de & Campeón  \\\\\n",
        "# #           & acertados         & acertados en posición & finalistas  & acertados          & en su posición     & medallistas &          \\\\\\hline\n",
        "           "
      ]
    },
    {
      "cell_type": "code",
      "execution_count": null,
      "metadata": {},
      "outputs": [],
      "source": [
        "p = \"\"\n",
        "stats = load_json('stats4.json')\n",
        "\n",
        "for event in stats:\n",
        "    try:\n",
        "        try:\n",
        "            ranking_pos_male = stats[event]['male']['ranking_pos']\n",
        "            ranking_exact_pos_male = stats[event]['male']['ranking_exact_pos']\n",
        "            podium_pos_male = stats[event]['male']['podium_pos']\n",
        "            podium_exact_pos_male = stats[event]['male']['podium_exact_pos']\n",
        "            champion_male = stats[event]['male']['champion']\n",
        "        except:\n",
        "            ranking_pos_male = '-'\n",
        "            ranking_exact_pos_male = '-'\n",
        "            podium_pos_male = '-'\n",
        "            podium_exact_pos_male = '-'\n",
        "            champion_male = '-'\n",
        "            \n",
        "        try:\n",
        "            ranking_pos_female = stats[event]['female']['ranking_pos']\n",
        "            ranking_exact_pos_female = stats[event]['female']['ranking_exact_pos']\n",
        "            podium_pos_female = stats[event]['female']['podium_pos']\n",
        "            podium_exact_pos_female = stats[event]['female']['podium_exact_pos']\n",
        "            champion_female = stats[event]['female']['champion']\n",
        "        except:\n",
        "            ranking_pos_female = '-'\n",
        "            ranking_exact_pos_female = '-'\n",
        "            podium_pos_female = '-'\n",
        "            podium_exact_pos_female = '-'\n",
        "            champion_female = '-'\n",
        "\n",
        "        p += f\"           {competition.get_event_data(event,'name')} & {ranking_pos_female} & {ranking_pos_male} & {ranking_exact_pos_female} & {ranking_exact_pos_male} & {podium_pos_female} & {podium_pos_male} & {podium_exact_pos_female} & {podium_exact_pos_male} & {champion_female} & {champion_male} \\\\\\\\\\n\"\n",
        "\n",
        "    except:\n",
        "        continue\n",
        "p+= '           \\hline\\n'\n",
        "p += f\"           Total & {stats['total_ranking_pos_gender']['female']} & {stats['total_ranking_pos_gender']['male']} & {stats['total_ranking_exact_pos_gender']['female']} & {stats['total_ranking_exact_pos_gender']['male']} & {stats['total_podium_pos_gender']['female']} & {stats['total_podium_pos_gender']['male']} & {stats['total_podium_exact_pos_gender']['female']} & {stats['total_podium_exact_pos_gender']['male']} & {stats['total_champion_gender']['female']} & {stats['total_champion_gender']['male']} \\\\\\\\ \\hline\"\n",
        "\n",
        "\n",
        "print(p)\n",
        "\n",
        " "
      ]
    }
  ],
  "metadata": {
    "colab": {
      "collapsed_sections": [],
      "name": "kde.ipynb",
      "provenance": []
    },
    "interpreter": {
      "hash": "dfd388942735c5130f417b4822c18777e57ed54f2754cdc41cfc53f488e62948"
    },
    "kernelspec": {
      "display_name": "Python 3 (ipykernel)",
      "language": "python",
      "name": "python3"
    },
    "language_info": {
      "codemirror_mode": {
        "name": "ipython",
        "version": 3
      },
      "file_extension": ".py",
      "mimetype": "text/x-python",
      "name": "python",
      "nbconvert_exporter": "python",
      "pygments_lexer": "ipython3",
      "version": "3.7.2"
    }
  },
  "nbformat": 4,
  "nbformat_minor": 0
}
