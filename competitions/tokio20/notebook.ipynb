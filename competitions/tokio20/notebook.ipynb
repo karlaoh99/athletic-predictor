{
  "cells": [
    {
      "cell_type": "code",
      "execution_count": null,
      "metadata": {},
      "outputs": [],
      "source": [
        "import sys\n",
        "sys.path.append(\"../..\")"
      ]
    },
    {
      "cell_type": "code",
      "execution_count": null,
      "metadata": {},
      "outputs": [],
      "source": [
        "from src.marks_reader import *\n",
        "from src.competition_data import *\n",
        "from src.prediction_saver import *\n",
        "from src.ponderator import *\n",
        "from src.simulator import *\n",
        "from src.utils import *\n",
        "from data.events_data import events\n",
        "from datetime import datetime"
      ]
    },
    {
      "cell_type": "code",
      "execution_count": null,
      "metadata": {},
      "outputs": [],
      "source": [
        "events_params = load_json('expert_params.json')"
      ]
    },
    {
      "cell_type": "code",
      "execution_count": null,
      "metadata": {},
      "outputs": [],
      "source": [
        "competition = CompetitionData(\n",
        "    name=\"Olympic Games Tokyo 2020\", \n",
        "    events_data=events, \n",
        "    events_params=events_params,\n",
        "    start_date=datetime(2021, 7, 23),\n",
        ")\n",
        "\n",
        "event_folder = 'classified'\n",
        "only = ['atl_100m']\n",
        "top = 8"
      ]
    },
    {
      "cell_type": "code",
      "execution_count": null,
      "metadata": {},
      "outputs": [],
      "source": [
        "data = read_marks(\n",
        "    folder_path=event_folder, \n",
        "    only=only,\n",
        "    limit_date=competition.start_date\n",
        ")"
      ]
    },
    {
      "cell_type": "code",
      "execution_count": null,
      "metadata": {},
      "outputs": [],
      "source": [
        "ponderated_data = ponderate_all_events(\n",
        "    data=data, \n",
        "    competition=competition,\n",
        "    years_weight={\n",
        "        \"2019\": 1,\n",
        "        \"2020\": 2,\n",
        "        \"2021\": 4\n",
        "    },\n",
        "    logs=True,\n",
        ")"
      ]
    },
    {
      "cell_type": "code",
      "execution_count": null,
      "metadata": {},
      "outputs": [],
      "source": [
        "prediction = simulate_all_events(\n",
        "    data=ponderated_data, \n",
        "    competition=competition, \n",
        "    top=top, \n",
        "    times=5000, \n",
        "    models_folder='models',\n",
        "    override_models=True,\n",
        "    only=only,\n",
        "    logs=True, \n",
        ")"
      ]
    },
    {
      "cell_type": "code",
      "execution_count": null,
      "metadata": {},
      "outputs": [],
      "source": [
        "save_prediction(\n",
        "    results=prediction, \n",
        "    competition=competition, \n",
        "    top=top,\n",
        "    file='predictions10.json'\n",
        ")"
      ]
    },
    {
      "cell_type": "code",
      "execution_count": null,
      "metadata": {},
      "outputs": [],
      "source": [
        "from src.stats_calculator import *\n",
        "from src.utils import *\n",
        "\n",
        "calculate_all_stats('results.json', 'predictions9.json', 'stats9.json')"
      ]
    }
  ],
  "metadata": {
    "colab": {
      "collapsed_sections": [],
      "name": "kde.ipynb",
      "provenance": []
    },
    "interpreter": {
      "hash": "dfd388942735c5130f417b4822c18777e57ed54f2754cdc41cfc53f488e62948"
    },
    "kernelspec": {
      "display_name": "Python 3 (ipykernel)",
      "language": "python",
      "name": "python3"
    },
    "language_info": {
      "codemirror_mode": {
        "name": "ipython",
        "version": 3
      },
      "file_extension": ".py",
      "mimetype": "text/x-python",
      "name": "python",
      "nbconvert_exporter": "python",
      "pygments_lexer": "ipython3",
      "version": "3.7.2"
    }
  },
  "nbformat": 4,
  "nbformat_minor": 0
}
