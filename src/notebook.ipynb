{
  "cells": [
    {
      "cell_type": "code",
      "execution_count": 27,
      "metadata": {},
      "outputs": [],
      "source": [
        "from marks_reader import *\n",
        "from prediction_saver import *\n",
        "from competition_data import *\n",
        "\n",
        "from events_data import events, maximize_events, events_in_groups, event_params\n",
        "from ponderator import ponderate_all_events\n",
        "from simulator import simulate_all_events"
      ]
    },
    {
      "cell_type": "code",
      "execution_count": 28,
      "metadata": {},
      "outputs": [],
      "source": [
        "event_folder = 'classified'\n",
        "\n",
        "only = [\"atl_jab\"]\n",
        "#only = None\n",
        "\n",
        "olimpicsData = CompetitionData(events, maximize_events, events_in_groups, event_params)"
      ]
    },
    {
      "cell_type": "code",
      "execution_count": 29,
      "metadata": {},
      "outputs": [],
      "source": [
        "data = read_marks(event_folder, only)"
      ]
    },
    {
      "cell_type": "code",
      "execution_count": null,
      "metadata": {},
      "outputs": [],
      "source": [
        "pond_times = {\n",
        "    2022: 4,\n",
        "    2021: 2,\n",
        "    2020: 1,\n",
        "}\n",
        "\n",
        "ponderated_data = ponderate_all_events(data, olimpicsData, pond_times)"
      ]
    },
    {
      "cell_type": "code",
      "execution_count": null,
      "metadata": {},
      "outputs": [],
      "source": [
        "pred = simulate_all_events(\n",
        "    data=ponderated_data, \n",
        "    competition=olimpicsData, \n",
        "    times=1000, \n",
        "    top=100, \n",
        "    logs=False, \n",
        ")"
      ]
    },
    {
      "cell_type": "code",
      "execution_count": null,
      "metadata": {},
      "outputs": [],
      "source": [
        "save_prediction(pred, olimpicsData, top=4)"
      ]
    },
    {
      "cell_type": "markdown",
      "metadata": {},
      "source": [
        "### OPTIMIZATION SECTION"
      ]
    },
    {
      "cell_type": "code",
      "execution_count": 30,
      "metadata": {},
      "outputs": [],
      "source": [
        "from prediction_saver import load_json\n",
        "\n",
        "mundial_results = list(load_json('results/mundial_results.json')['atl_jab']['male'].values())"
      ]
    },
    {
      "cell_type": "code",
      "execution_count": 36,
      "metadata": {},
      "outputs": [
        {
          "name": "stdout",
          "output_type": "stream",
          "text": [
            "12.846050505050504\n",
            "7.708030303030303\n",
            "0.001\n",
            "4.743787878787879\n",
            "19.565\n",
            "16.9959898989899\n",
            "2.1747777777777775\n",
            "5.139020202020202\n",
            "10.277040404040402\n",
            "7.905646464646464\n",
            "7.510414141414142\n",
            "5.336636363636364\n",
            "10.079424242424242\n",
            "10.474656565656565\n",
            "9.88180808080808\n",
            "5.534252525252525\n",
            "5.731868686868687\n",
            "5.929484848484848\n",
            "2.3723939393939393\n",
            "2.5700101010101006\n",
            "2.7676262626262624\n",
            "3.1628585858585856\n",
            "19.169767676767677\n",
            "1.7795454545454543\n",
            "6.324717171717172\n",
            "0.1986161616161616\n",
            "3.5580909090909087\n",
            "3.3604747474747474\n",
            "3.7557070707070705\n",
            "2.965242424242424\n",
            "3.953323232323232\n",
            "4.150939393939394\n",
            "14.82221212121212\n",
            "4.3485555555555555\n",
            "8.300878787878787\n",
            "8.49849494949495\n",
            "8.893727272727272\n",
            "8.103262626262625\n",
            "11.462737373737372\n",
            "11.857969696969695\n",
            "11.265121212121212\n",
            "10.869888888888887\n",
            "11.06750505050505\n",
            "13.63651515151515\n",
            "18.181686868686867\n",
            "15.810292929292928\n",
            "10.672272727272727\n",
            "0.989080808080808\n",
            "14.229363636363635\n",
            "14.031747474747473\n",
            "14.426979797979797\n",
            "4.546171717171717\n",
            "6.917565656565657\n",
            "6.719949494949495\n",
            "7.115181818181818\n",
            "16.403141414141416\n",
            "17.588838383838386\n",
            "18.774535353535352\n",
            "9.288959595959595\n",
            "15.217444444444443\n",
            "1.3843131313131312\n",
            "16.00790909090909\n",
            "12.45081818181818\n",
            "13.241282828282827\n",
            "0.5938484848484848\n",
            "9.486575757575757\n",
            "1.977161616161616\n",
            "6.12710101010101\n",
            "6.522333333333333\n",
            "17.786454545454546\n",
            "17.391222222222222\n",
            "17.984070707070707\n",
            "13.43889898989899\n",
            "8.69611111111111\n",
            "9.091343434343433\n",
            "4.9414040404040405\n",
            "15.415060606060605\n",
            "15.612676767676767\n",
            "1.5819292929292927\n",
            "7.312797979797979\n",
            "13.834131313131312\n",
            "18.37930303030303\n",
            "12.25320202020202\n",
            "16.600757575757576\n",
            "16.205525252525252\n",
            "11.660353535353535\n",
            "12.055585858585857\n",
            "18.576919191919192\n",
            "9.684191919191917\n",
            "19.367383838383837\n",
            "18.972151515151516\n",
            "1.1866969696969696\n",
            "13.043666666666665\n",
            "0.7914646464646464\n",
            "0.3962323232323232\n",
            "15.019828282828282\n",
            "12.648434343434342\n",
            "14.624595959595958\n",
            "16.798373737373737\n",
            "17.19360606060606\n",
            "Configuration(values={\n",
            "  'bandwidth': 10.079424242424242,\n",
            "})\n",
            "\n"
          ]
        }
      ],
      "source": [
        "from optimizer import *\n",
        "\n",
        "smac = SMAC4BBOptimizer(100, calculate_error3)\n",
        "print(smac.optimize(data['atl_jab']['male'], mundial_results, 'atl_jab', 'male', olimpicsData))"
      ]
    },
    {
      "cell_type": "code",
      "execution_count": 46,
      "metadata": {},
      "outputs": [],
      "source": [
        "pond_times = {\n",
        "2022: 4,\n",
        "2021: 2,\n",
        "2020: 1,\n",
        "}\n",
        "\n",
        "olimpicsData.set_event_param('atl_jab', 'male', 'bandwidth', 10.079424242424242)\n",
        "\n",
        "pond_data = ponderate_event(\n",
        "    data=data['atl_jab']['male'], \n",
        "    maximize=olimpicsData.is_maximize_event('atl_jab'), \n",
        "    years_weight=pond_times,\n",
        "    alpha=0\n",
        ")\n",
        "\n",
        "sim_result = simulate_event(\n",
        "    data=pond_data, \n",
        "    event='atl_jab', \n",
        "    sex='male',\n",
        "    competition=olimpicsData,\n",
        "    times= 1000,\n",
        "    models_folder='models',\n",
        "    override_models=True, \n",
        ")"
      ]
    },
    {
      "cell_type": "code",
      "execution_count": 47,
      "metadata": {},
      "outputs": [
        {
          "name": "stdout",
          "output_type": "stream",
          "text": [
            "['GER_johannes_vetter', 'IND_neeraj_chopra', 'GER_julian_weber', 'FIN_oliver_helander', 'CZE_jakub_vadlejch', 'PAK_arshad_nadeem', 'GRN_anderson_peters', 'MDA_andrian_mardare', 'TTO_keshorn_walcott', 'GER_andreas_hofmann', 'CZE_vítězslav_veselý', 'LAT_gatis_čakšs', 'EGY_ihab_abdelrahman', 'FIN_lassi_etelätalo', 'LAT_patriks_gailums', 'JPN_roderick_genki_dean', 'ESP_manu_quijera', 'TPE_shih-feng_huang', 'POR_leandro_ramos', 'UKR_artur_felfner', 'IND_d', 'POL_cyprian_mrzygłód', 'USA_tim_glover', 'LAT_rolands_štrobinders', 'KEN_julius_yego', 'SWE_kim_amb', 'USA_michael_shuey', 'IND_rohit_yadav', 'ROU_alexandru_mihaita_novac', 'JPN_kenji_ogura', 'FIN_topias_laine', 'FIN_toni_kuusela', 'USA_curtis_thompson', 'USA_ethan_dabbs', 'AUS_cameron_mcentyre', 'MEX_david_carreon', 'NGR_chinecherem_nnamdi', 'SRI_sumedha_ranasinghe', 'FIN_toni_keränen', 'USA_marc_anthony_minichello', 'FIN_jami_kinnunen', 'RSA_johan_grobler', 'FIN_jarmo_marttila', 'IND_yash_vir_singh', 'TUR_emin_öncel', 'BEL_timothy_herman', 'RSA_waldo_smit', 'JPN_yuta_sakiyama', 'USA_capers_williamson', 'KEN_alex_toroitich_kiprotich', 'ISL_dagbjartur_dadi_jonsson', 'ITA_roberto_orlando', 'BIH_dejan_mileusnić', 'KOR_you-il_bae', 'COL_arley_ibarguen', 'GER_maurice_voigt', 'USA_donavon_banks', 'AUS_cruz_hogan', 'BRA_luiz_mauricio_da_silva', 'CZE_martin_konečný', 'USA_zach_holland', 'USA_tzuriel_pedigo', 'COL_billy_julio_lópez', 'DEN_arthur_w', \"FRA_teura'itera'i_tupaia\", 'GRE_dimitris_tsitsos', 'SWE_jakob_samuelsson', 'BAH_keyshawn_strachan', 'BRA_pedro_henrique_rodrigues', 'ROU_denis_adrian_both', 'USA_ethan_shalaway', 'FRA_felise_vahai_sosaia', 'SUI_simon_wieland', 'SRB_vedran_samac', 'SVK_maximilian_slezák', 'NED_thomas_van_ophem']\n"
          ]
        }
      ],
      "source": [
        "print(sim_result)"
      ]
    },
    {
      "cell_type": "code",
      "execution_count": null,
      "metadata": {},
      "outputs": [],
      "source": [
        "# from autogoal.ml import AutoML\n",
        "# from autogoal.grammar import ContinuousValue\n",
        "# from autogoal.kb import *   \n",
        "# from autogoal.ml import AutoML\n",
        "\n",
        "# import numpy as np\n",
        "# from sklearn.neighbors import KernelDensity\n",
        "\n",
        "\n",
        "# class NewAlgorithm(AlgorithmBase):\n",
        "#     def __init__(\n",
        "#         self,\n",
        "#         bandwith: ContinuousValue(min=0.1, max=5),\n",
        "#         ):\n",
        "#         self.bandwith = bandwith\n",
        "\n",
        "#     def run(self, input: MatrixContinuousDense) -> Continuous:\n",
        "#         model = KernelDensity(bandwidth=self.bandwith, kernel='gaussian')\n",
        "#         print(input)\n",
        "#         model.fit(X = input)\n",
        "\n",
        "#         return model.sample()[0][0]\n",
        "\n",
        "\n",
        "# automl = automl = AutoML(\n",
        "#     input=(Seq[MatrixContinuousDense], Supervised[VectorContinuous]), \n",
        "#     output=VectorContinuous,\n",
        "#     registry=[NewAlgorithm],\n",
        "# )\n",
        "\n",
        "# nx = [a.Result.to_numpy().reshape((-1,1)) for a in x['atl_jab']['female']]\n",
        "\n",
        "# automl.fit(nx, y['atl_jab']['female'])"
      ]
    },
    {
      "cell_type": "code",
      "execution_count": null,
      "metadata": {},
      "outputs": [],
      "source": [
        "# from prediction_saver import _load_json, _save_json\n",
        "\n",
        "# results = _load_json('r.json')['events']\n",
        "\n",
        "# mundial = {}\n",
        "\n",
        "# for e in results:\n",
        "#     mundial[e] = {}\n",
        "#     for sex in results[e]['sex']:\n",
        "#         mundial[e][sex] = results[e]['sex'][sex]['result']\n",
        "\n",
        "# for e in mundial:\n",
        "#     for sex in mundial[e]:\n",
        "#         for pos in mundial[e][sex]:\n",
        "#             name = mundial[e][sex][pos]['name'].replace(' ', '_').casefold()\n",
        "#             mundial[e][sex][pos] = f'{mundial[e][sex][pos][\"country\"]}_{name}'\n",
        "\n",
        "# _save_json(mundial, 'mundial_results.json')"
      ]
    },
    {
      "cell_type": "code",
      "execution_count": null,
      "metadata": {},
      "outputs": [],
      "source": [
        "# # Tratamiento de datos\n",
        "# # ==============================================================================\n",
        "# import numpy as np\n",
        "# import joblib\n",
        "\n",
        "# # Gráficos\n",
        "# # ==============================================================================\n",
        "# import matplotlib.pyplot as plt\n",
        "# from matplotlib import style\n",
        "\n",
        "# # Ajuste de distribuciones\n",
        "# # ==============================================================================\n",
        "# from sklearn.neighbors import KernelDensity\n",
        "\n",
        "# # Configuración matplotlib\n",
        "# # ==============================================================================\n",
        "# plt.rcParams['figure.figsize'] = (12,8)\n",
        "# style.use('ggplot') or plt.style.use('ggplot')\n",
        "\n",
        "# # Configuración warnings\n",
        "# # ==============================================================================\n",
        "# import warnings\n",
        "# warnings.filterwarnings('ignore')\n",
        "\n",
        "# from concurrent.futures import *"
      ]
    },
    {
      "cell_type": "code",
      "execution_count": null,
      "metadata": {},
      "outputs": [],
      "source": [
        "# def single_model(event_name, sex, name, save_folder, models):\n",
        "#     model = None\n",
        "#     if save_folder is not None:\n",
        "#         folder_path = Path(save_folder)\n",
        "#         folder_path.mkdir(parents=True, exist_ok=True)\n",
        "#         full_path = folder_path / f'{name}.pkl'\n",
        "#         if full_path.exists():\n",
        "#             model = joblib.load(full_path)\n",
        "#         else:\n",
        "#             model = athlete_kde_model(event_name, sex, name)\n",
        "#             joblib.dump(model, full_path)\n",
        "#     else:\n",
        "#         model = athlete_kde_model(event_name, sex, name)\n",
        "#     models.append(model)"
      ]
    },
    {
      "cell_type": "code",
      "execution_count": null,
      "metadata": {
        "id": "JVDDRPS7X5PB"
      },
      "outputs": [],
      "source": [
        "# def density_pred(kde_model: KernelDensity, samples):    \n",
        "#     log_density_pred = kde_model.score_samples(X=samples.reshape(-1, 1))\n",
        "#     return np.exp(log_density_pred)\n",
        "\n",
        "    \n",
        "# def plot_model(event, sex, model_name, bounds, Show=True):\n",
        "#     model: KernelDensity = joblib.load(f'models/{event}/{sex}/{model_name}.pkl')\n",
        "#     # X = np.linspace(bounds[0], bounds[1], 200)\n",
        "#     # Y = density_pred(model, X)\n",
        "#     X, Y = model.evaluate()\n",
        "#     plt.plot(X, Y, label=model_name)\n",
        "#     if Show:\n",
        "#         plt.show()\n",
        "\n",
        "# bounds = (1700, 1900)\n",
        "# event, sex = 'atl_jab', 'female'\n",
        "# plot_model(event, sex, 'AUS_alexandra_roberts', bounds, False)\n",
        "# # plot_model(event, sex, 'BRN_kalkidan_gezahegne', bounds, False)\n",
        "# # plot_model(event, sex, 'NED_sifan_hassan', bounds, False)\n",
        "# plt.legend()\n",
        "\n",
        "# plt.show()\n",
        "\n",
        "# model: KernelDensity = joblib.load(f'models/{event}/{sex}/NED_sifan_hassan.pkl')\n",
        "# print(model.bandwidth)"
      ]
    },
    {
      "cell_type": "code",
      "execution_count": null,
      "metadata": {
        "id": "b8NYc4q7X5PC"
      },
      "outputs": [],
      "source": [
        "# entry = load_entry_json()\n",
        "\n",
        "# new_entry = {}\n",
        "\n",
        "# for event in entry:\n",
        "#     new_entry[event] = {}\n",
        "#     for sex in entry[event]:\n",
        "#         new_entry[event][sex] = []\n",
        "        \n",
        "#         for name in entry[event][sex]:\n",
        "#             new_entry[event][sex].append(name.casefold())\n",
        "\n",
        "# save_prediction(new_entry, \"entry_list.json\")"
      ]
    }
  ],
  "metadata": {
    "colab": {
      "collapsed_sections": [],
      "name": "kde.ipynb",
      "provenance": []
    },
    "interpreter": {
      "hash": "dfd388942735c5130f417b4822c18777e57ed54f2754cdc41cfc53f488e62948"
    },
    "kernelspec": {
      "display_name": "Python 3 (ipykernel)",
      "language": "python",
      "name": "python3"
    },
    "language_info": {
      "codemirror_mode": {
        "name": "ipython",
        "version": 3
      },
      "file_extension": ".py",
      "mimetype": "text/x-python",
      "name": "python",
      "nbconvert_exporter": "python",
      "pygments_lexer": "ipython3",
      "version": "3.7.2"
    }
  },
  "nbformat": 4,
  "nbformat_minor": 0
}
