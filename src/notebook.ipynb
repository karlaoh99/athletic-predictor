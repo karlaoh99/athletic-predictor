{
  "cells": [
    {
      "cell_type": "code",
      "execution_count": 1,
      "metadata": {},
      "outputs": [],
      "source": [
        "from marks_reader import *\n",
        "from prediction_saver import *\n",
        "from competition_data import *\n",
        "\n",
        "from events_data import events, maximize_events, events_in_groups, event_params\n",
        "from ponderator import ponderate_all_events\n",
        "from simulator import simulate_all_events"
      ]
    },
    {
      "cell_type": "code",
      "execution_count": 2,
      "metadata": {},
      "outputs": [],
      "source": [
        "event_folder = 'classified'\n",
        "\n",
        "only = [\"atl_jab\"]\n",
        "#only = None\n",
        "\n",
        "olimpicsData = CompetitionData(events, maximize_events, events_in_groups, event_params)"
      ]
    },
    {
      "cell_type": "code",
      "execution_count": 3,
      "metadata": {},
      "outputs": [],
      "source": [
        "data = read_marks(event_folder, only)"
      ]
    },
    {
      "cell_type": "code",
      "execution_count": null,
      "metadata": {},
      "outputs": [],
      "source": [
        "pond_times = {\n",
        "    2022: 4,\n",
        "    2021: 2,\n",
        "    2020: 1,\n",
        "}\n",
        "\n",
        "ponderated_data = ponderate_all_events(data, olimpicsData, pond_times)"
      ]
    },
    {
      "cell_type": "code",
      "execution_count": null,
      "metadata": {},
      "outputs": [],
      "source": [
        "pred = simulate_all_events(\n",
        "    data=ponderated_data, \n",
        "    competition=olimpicsData, \n",
        "    times=1000, \n",
        "    top=100, \n",
        "    logs=False, \n",
        ")"
      ]
    },
    {
      "cell_type": "code",
      "execution_count": null,
      "metadata": {},
      "outputs": [],
      "source": [
        "save_prediction(pred, olimpicsData, top=4)"
      ]
    },
    {
      "cell_type": "markdown",
      "metadata": {},
      "source": [
        "### OPTIMIZATION SECTION"
      ]
    },
    {
      "cell_type": "code",
      "execution_count": 4,
      "metadata": {},
      "outputs": [],
      "source": [
        "from prediction_saver import load_json\n",
        "\n",
        "mundial_results = list(load_json('results/mundial_results.json')['atl_jab']['male'].values())"
      ]
    },
    {
      "cell_type": "code",
      "execution_count": 5,
      "metadata": {},
      "outputs": [
        {
          "name": "stdout",
          "output_type": "stream",
          "text": [
            "Configuration(values={\n",
            "  'bandwidth': 0.30287693955932354,\n",
            "})\n",
            "\n"
          ]
        }
      ],
      "source": [
        "from optimizer import *\n",
        "\n",
        "smac = SMAC4BBOptimizer(5, calculate_error1)\n",
        "print(smac.optimize(data['atl_jab']['male'], mundial_results, 'atl_jab', 'male', olimpicsData))"
      ]
    },
    {
      "cell_type": "code",
      "execution_count": null,
      "metadata": {},
      "outputs": [],
      "source": [
        "# from autogoal.ml import AutoML\n",
        "# from autogoal.grammar import ContinuousValue\n",
        "# from autogoal.kb import *   \n",
        "# from autogoal.ml import AutoML\n",
        "\n",
        "# import numpy as np\n",
        "# from sklearn.neighbors import KernelDensity\n",
        "\n",
        "\n",
        "# class NewAlgorithm(AlgorithmBase):\n",
        "#     def __init__(\n",
        "#         self,\n",
        "#         bandwith: ContinuousValue(min=0.1, max=5),\n",
        "#         ):\n",
        "#         self.bandwith = bandwith\n",
        "\n",
        "#     def run(self, input: MatrixContinuousDense) -> Continuous:\n",
        "#         model = KernelDensity(bandwidth=self.bandwith, kernel='gaussian')\n",
        "#         print(input)\n",
        "#         model.fit(X = input)\n",
        "\n",
        "#         return model.sample()[0][0]\n",
        "\n",
        "\n",
        "# automl = automl = AutoML(\n",
        "#     input=(Seq[MatrixContinuousDense], Supervised[VectorContinuous]), \n",
        "#     output=VectorContinuous,\n",
        "#     registry=[NewAlgorithm],\n",
        "# )\n",
        "\n",
        "# nx = [a.Result.to_numpy().reshape((-1,1)) for a in x['atl_jab']['female']]\n",
        "\n",
        "# automl.fit(nx, y['atl_jab']['female'])"
      ]
    },
    {
      "cell_type": "code",
      "execution_count": null,
      "metadata": {},
      "outputs": [],
      "source": [
        "# from prediction_saver import _load_json, _save_json\n",
        "\n",
        "# results = _load_json('r.json')['events']\n",
        "\n",
        "# mundial = {}\n",
        "\n",
        "# for e in results:\n",
        "#     mundial[e] = {}\n",
        "#     for sex in results[e]['sex']:\n",
        "#         mundial[e][sex] = results[e]['sex'][sex]['result']\n",
        "\n",
        "# for e in mundial:\n",
        "#     for sex in mundial[e]:\n",
        "#         for pos in mundial[e][sex]:\n",
        "#             name = mundial[e][sex][pos]['name'].replace(' ', '_').casefold()\n",
        "#             mundial[e][sex][pos] = f'{mundial[e][sex][pos][\"country\"]}_{name}'\n",
        "\n",
        "# _save_json(mundial, 'mundial_results.json')"
      ]
    },
    {
      "cell_type": "code",
      "execution_count": null,
      "metadata": {},
      "outputs": [],
      "source": [
        "# # Tratamiento de datos\n",
        "# # ==============================================================================\n",
        "# import numpy as np\n",
        "# import joblib\n",
        "\n",
        "# # Gráficos\n",
        "# # ==============================================================================\n",
        "# import matplotlib.pyplot as plt\n",
        "# from matplotlib import style\n",
        "\n",
        "# # Ajuste de distribuciones\n",
        "# # ==============================================================================\n",
        "# from sklearn.neighbors import KernelDensity\n",
        "\n",
        "# # Configuración matplotlib\n",
        "# # ==============================================================================\n",
        "# plt.rcParams['figure.figsize'] = (12,8)\n",
        "# style.use('ggplot') or plt.style.use('ggplot')\n",
        "\n",
        "# # Configuración warnings\n",
        "# # ==============================================================================\n",
        "# import warnings\n",
        "# warnings.filterwarnings('ignore')\n",
        "\n",
        "# from concurrent.futures import *"
      ]
    },
    {
      "cell_type": "code",
      "execution_count": null,
      "metadata": {},
      "outputs": [],
      "source": [
        "# def single_model(event_name, sex, name, save_folder, models):\n",
        "#     model = None\n",
        "#     if save_folder is not None:\n",
        "#         folder_path = Path(save_folder)\n",
        "#         folder_path.mkdir(parents=True, exist_ok=True)\n",
        "#         full_path = folder_path / f'{name}.pkl'\n",
        "#         if full_path.exists():\n",
        "#             model = joblib.load(full_path)\n",
        "#         else:\n",
        "#             model = athlete_kde_model(event_name, sex, name)\n",
        "#             joblib.dump(model, full_path)\n",
        "#     else:\n",
        "#         model = athlete_kde_model(event_name, sex, name)\n",
        "#     models.append(model)"
      ]
    },
    {
      "cell_type": "code",
      "execution_count": null,
      "metadata": {
        "id": "JVDDRPS7X5PB"
      },
      "outputs": [],
      "source": [
        "# def density_pred(kde_model: KernelDensity, samples):    \n",
        "#     log_density_pred = kde_model.score_samples(X=samples.reshape(-1, 1))\n",
        "#     return np.exp(log_density_pred)\n",
        "\n",
        "    \n",
        "# def plot_model(event, sex, model_name, bounds, Show=True):\n",
        "#     model: KernelDensity = joblib.load(f'models/{event}/{sex}/{model_name}.pkl')\n",
        "#     # X = np.linspace(bounds[0], bounds[1], 200)\n",
        "#     # Y = density_pred(model, X)\n",
        "#     X, Y = model.evaluate()\n",
        "#     plt.plot(X, Y, label=model_name)\n",
        "#     if Show:\n",
        "#         plt.show()\n",
        "\n",
        "# bounds = (1700, 1900)\n",
        "# event, sex = 'atl_jab', 'female'\n",
        "# plot_model(event, sex, 'AUS_alexandra_roberts', bounds, False)\n",
        "# # plot_model(event, sex, 'BRN_kalkidan_gezahegne', bounds, False)\n",
        "# # plot_model(event, sex, 'NED_sifan_hassan', bounds, False)\n",
        "# plt.legend()\n",
        "\n",
        "# plt.show()\n",
        "\n",
        "# model: KernelDensity = joblib.load(f'models/{event}/{sex}/NED_sifan_hassan.pkl')\n",
        "# print(model.bandwidth)"
      ]
    },
    {
      "cell_type": "code",
      "execution_count": null,
      "metadata": {
        "id": "b8NYc4q7X5PC"
      },
      "outputs": [],
      "source": [
        "# entry = load_entry_json()\n",
        "\n",
        "# new_entry = {}\n",
        "\n",
        "# for event in entry:\n",
        "#     new_entry[event] = {}\n",
        "#     for sex in entry[event]:\n",
        "#         new_entry[event][sex] = []\n",
        "        \n",
        "#         for name in entry[event][sex]:\n",
        "#             new_entry[event][sex].append(name.casefold())\n",
        "\n",
        "# save_prediction(new_entry, \"entry_list.json\")"
      ]
    }
  ],
  "metadata": {
    "colab": {
      "collapsed_sections": [],
      "name": "kde.ipynb",
      "provenance": []
    },
    "interpreter": {
      "hash": "dfd388942735c5130f417b4822c18777e57ed54f2754cdc41cfc53f488e62948"
    },
    "kernelspec": {
      "display_name": "Python 3 (ipykernel)",
      "language": "python",
      "name": "python3"
    },
    "language_info": {
      "codemirror_mode": {
        "name": "ipython",
        "version": 3
      },
      "file_extension": ".py",
      "mimetype": "text/x-python",
      "name": "python",
      "nbconvert_exporter": "python",
      "pygments_lexer": "ipython3",
      "version": "3.7.2"
    }
  },
  "nbformat": 4,
  "nbformat_minor": 0
}
